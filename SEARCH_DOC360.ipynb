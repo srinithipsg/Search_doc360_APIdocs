{
 "cells": [
  {
   "cell_type": "markdown",
   "id": "a32b2b7f-8668-42f3-9be0-0492fe3f0be7",
   "metadata": {},
   "source": [
    "### ASSITIVE SEARCH IMPLEMENTATION ON  https://apidocs.document360.com/apidoc\n",
    "\n",
    "- The contents scraped from the webpages are stored in csv and its loaded using csvloader \n",
    "\n",
    "- OpenAIEmbedding modelis used to convert text chunks into embeddings. These embeddings are then  stored in a Faiss vector store for fast and efficient similarity searches, ensuring data durability and accessibility via langchain framework\n",
    "\n"
   ]
  },
  {
   "cell_type": "code",
   "execution_count": 1,
   "id": "89c76afb-7ce0-4dbd-aa3c-0bf14824de42",
   "metadata": {},
   "outputs": [],
   "source": [
    "import pandas as pd\n",
    "import os\n",
    "import re\n",
    "from langchain.embeddings.openai import OpenAIEmbeddings\n",
    "from langchain.vectorstores import FAISS\n",
    "from langchain.document_loaders.csv_loader import CSVLoader\n",
    "from langchain.llms import OpenAI\n",
    "from langchain.chains import RetrievalQA\n",
    "\n"
   ]
  },
  {
   "cell_type": "code",
   "execution_count": 2,
   "id": "8b27ebbe-3329-40d7-bc94-b3d2ee489bc8",
   "metadata": {},
   "outputs": [
    {
     "data": {
      "text/html": [
       "<div>\n",
       "<style scoped>\n",
       "    .dataframe tbody tr th:only-of-type {\n",
       "        vertical-align: middle;\n",
       "    }\n",
       "\n",
       "    .dataframe tbody tr th {\n",
       "        vertical-align: top;\n",
       "    }\n",
       "\n",
       "    .dataframe thead th {\n",
       "        text-align: right;\n",
       "    }\n",
       "</style>\n",
       "<table border=\"1\" class=\"dataframe\">\n",
       "  <thead>\n",
       "    <tr style=\"text-align: right;\">\n",
       "      <th></th>\n",
       "      <th>Unnamed: 0</th>\n",
       "      <th>url</th>\n",
       "      <th>Title</th>\n",
       "      <th>http_Request</th>\n",
       "      <th>API_endpoint</th>\n",
       "      <th>Code</th>\n",
       "    </tr>\n",
       "  </thead>\n",
       "  <tbody>\n",
       "    <tr>\n",
       "      <th>0</th>\n",
       "      <td>0</td>\n",
       "      <td>https://apidocs.document360.com/apidocs/get-ar...</td>\n",
       "      <td>Gets an article</td>\n",
       "      <td>GET</td>\n",
       "      <td>/v2/Articles/{articleId}/{langCode}</td>\n",
       "      <td>curl --request GET \\\\n  --url 'https://apihub....</td>\n",
       "    </tr>\n",
       "    <tr>\n",
       "      <th>1</th>\n",
       "      <td>1</td>\n",
       "      <td>https://apidocs.document360.com/apidocs/gets-a...</td>\n",
       "      <td>Gets all version languages in the project</td>\n",
       "      <td>GET</td>\n",
       "      <td>/v2/Language/{projectVersionId}</td>\n",
       "      <td>curl --request GET \\\\n  --url https://apihub.d...</td>\n",
       "    </tr>\n",
       "    <tr>\n",
       "      <th>2</th>\n",
       "      <td>2</td>\n",
       "      <td>https://apidocs.document360.com/apidocs/get-st...</td>\n",
       "      <td>Get the status of import</td>\n",
       "      <td>GET</td>\n",
       "      <td>/v2/Project/Import/{importId}</td>\n",
       "      <td>curl --request GET \\\\n  --url https://apihub.d...</td>\n",
       "    </tr>\n",
       "    <tr>\n",
       "      <th>3</th>\n",
       "      <td>3</td>\n",
       "      <td>https://apidocs.document360.com/apidocs/import...</td>\n",
       "      <td>Import documentation</td>\n",
       "      <td>POST</td>\n",
       "      <td>/v2/Project/Import</td>\n",
       "      <td>{\\n \"source_documentation_url\": \"string\",\\n \"p...</td>\n",
       "    </tr>\n",
       "    <tr>\n",
       "      <th>4</th>\n",
       "      <td>4</td>\n",
       "      <td>https://apidocs.document360.com/apidocs/export...</td>\n",
       "      <td>Start a new export</td>\n",
       "      <td>POST</td>\n",
       "      <td>/v2/Project/Export</td>\n",
       "      <td>\\n{\\n \"entity\": \"string\",\\n \"version_id\": [\\n ...</td>\n",
       "    </tr>\n",
       "  </tbody>\n",
       "</table>\n",
       "</div>"
      ],
      "text/plain": [
       "   Unnamed: 0                                                url  \\\n",
       "0           0  https://apidocs.document360.com/apidocs/get-ar...   \n",
       "1           1  https://apidocs.document360.com/apidocs/gets-a...   \n",
       "2           2  https://apidocs.document360.com/apidocs/get-st...   \n",
       "3           3  https://apidocs.document360.com/apidocs/import...   \n",
       "4           4  https://apidocs.document360.com/apidocs/export...   \n",
       "\n",
       "                                       Title http_Request  \\\n",
       "0                            Gets an article          GET   \n",
       "1  Gets all version languages in the project          GET   \n",
       "2                   Get the status of import          GET   \n",
       "3                       Import documentation         POST   \n",
       "4                         Start a new export         POST   \n",
       "\n",
       "                          API_endpoint  \\\n",
       "0  /v2/Articles/{articleId}/{langCode}   \n",
       "1      /v2/Language/{projectVersionId}   \n",
       "2        /v2/Project/Import/{importId}   \n",
       "3                   /v2/Project/Import   \n",
       "4                   /v2/Project/Export   \n",
       "\n",
       "                                                Code  \n",
       "0  curl --request GET \\\\n  --url 'https://apihub....  \n",
       "1  curl --request GET \\\\n  --url https://apihub.d...  \n",
       "2  curl --request GET \\\\n  --url https://apihub.d...  \n",
       "3  {\\n \"source_documentation_url\": \"string\",\\n \"p...  \n",
       "4  \\n{\\n \"entity\": \"string\",\\n \"version_id\": [\\n ...  "
      ]
     },
     "execution_count": 2,
     "metadata": {},
     "output_type": "execute_result"
    }
   ],
   "source": [
    "doc360_api_docs = pd.read_csv(\"./data/document360_api_docs.csv\")\n",
    "doc360_api_docs.head()"
   ]
  },
  {
   "cell_type": "code",
   "execution_count": null,
   "id": "89057e6e-23c6-469d-a4eb-ed0e3a78a15d",
   "metadata": {},
   "outputs": [],
   "source": []
  },
  {
   "cell_type": "markdown",
   "id": "0c5536e4-7bb2-41ba-b249-baa84abd3c7f",
   "metadata": {},
   "source": [
    "#### SIMILARITY SEARCH USING FAISS IN LANGCHAIN"
   ]
  },
  {
   "cell_type": "code",
   "execution_count": 3,
   "id": "9df0f7ed-421b-48a4-8433-28f2adc1d7b2",
   "metadata": {},
   "outputs": [
    {
     "name": "stdout",
     "output_type": "stream",
     "text": [
      "page_content=\": 0\\nurl: https://apidocs.document360.com/apidocs/get-article\\nTitle: Gets an article\\nhttp_Request: GET\\nAPI_endpoint: /v2/Articles/{articleId}/{langCode}\\nCode: curl --request GET \\\\\\n  --url 'https://apihub.document360.io/v2/Articles/%7BarticleId%7D/en?isForDisplay=False&isPublished=False&appendSASToken=True' \\\\\\n  --header 'accept: application/json' \\\\\\n  --header 'api_token: REPLACE_KEY_VALUE'\" metadata={'source': './data/document360_api_docs.csv', 'row': 0}\n"
     ]
    }
   ],
   "source": [
    "#loading the file which has the scraped content\n",
    "loader = CSVLoader(file_path=\"./data/document360_api_docs.csv\")\n",
    "data = loader.load()\n",
    "print(data[0])"
   ]
  },
  {
   "cell_type": "code",
   "execution_count": 4,
   "id": "8c47eb79-cb5f-40a4-9ff1-3148b12bb9f5",
   "metadata": {},
   "outputs": [],
   "source": [
    "#Embedding model used\n",
    "embeddings = OpenAIEmbeddings()\n",
    "\n",
    "#Indexing and storing the data into FAISS\n",
    "db = FAISS.from_documents(data, embeddings)\n",
    "\n",
    "#saving the data in local in which we can use it later \n",
    "db.save_local(\"faiss_index\")"
   ]
  },
  {
   "cell_type": "code",
   "execution_count": 5,
   "id": "a270b278-3ea7-4468-bc27-d321d838099b",
   "metadata": {},
   "outputs": [],
   "source": [
    "#function for validating the user input (API endpoints, type of request)\n",
    "\n",
    "def get_valid_api_endpoint():\n",
    "    while True:\n",
    "        user_input = input(\"Enter the API endpoint (e.g., /v2/Articles/{articleId}/{langCode}): \")\n",
    "        # Define a regular expression pattern for the generic format\n",
    "        pattern = r'^/v2/[\\w/{}]+/?$'\n",
    "        # Check if the user input matches the pattern\n",
    "        if re.match(pattern, user_input):\n",
    "            return user_input\n",
    "        else:\n",
    "            print(\"Invalid API endpoint format. Please provide a valid endpoint.\")\n",
    "\n",
    "def get_http_request():\n",
    "    while True:\n",
    "        user_input = input(\"Enter type of http request (GET/POST/PUT/DELETE):\")\n",
    "        #check if the user input is one among the request type\n",
    "        if user_input.lower() in ['get','post','put','delete']:\n",
    "            return user_input\n",
    "        else:\n",
    "            print('Invalid request. Please provide a valid request')\n",
    "\n",
    "        \n"
   ]
  },
  {
   "cell_type": "code",
   "execution_count": 6,
   "id": "8bd28f75-568a-44f0-a1b2-e1c5a4a0983e",
   "metadata": {},
   "outputs": [
    {
     "name": "stdin",
     "output_type": "stream",
     "text": [
      "Enter the API endpoint (e.g., /v2/Articles/{articleId}/{langCode}):  from langchain.chains import RetrievalQA`\n"
     ]
    },
    {
     "name": "stdout",
     "output_type": "stream",
     "text": [
      "Invalid API endpoint format. Please provide a valid endpoint.\n"
     ]
    },
    {
     "name": "stdin",
     "output_type": "stream",
     "text": [
      "Enter the API endpoint (e.g., /v2/Articles/{articleId}/{langCode}):  /v2/Articles/{articleId}/{langCode}\n",
      "Enter type of http request (GET/POST/PUT/DELETE): get\n"
     ]
    }
   ],
   "source": [
    "# function call to Validate the user input\n",
    "api_endpoint = get_valid_api_endpoint()\n",
    "http_request = get_http_request()\n",
    "\n",
    "#search query\n",
    "query = f\"Provide code samples for {http_request} {api_endpoint}\"\n",
    "\n",
    "#Finding the similar match for the query\n",
    "results = db.similarity_search(query)\n"
   ]
  },
  {
   "cell_type": "markdown",
   "id": "94ab32be-a853-493c-bb5b-21e6c265d3c7",
   "metadata": {},
   "source": [
    "#### LOADING THE DATABASE FROM DISK AND CREATING THE CHAIN"
   ]
  },
  {
   "cell_type": "code",
   "execution_count": 8,
   "id": "f6535781-a479-4f3c-a12f-975e01741346",
   "metadata": {},
   "outputs": [],
   "source": [
    "#Initializing the QA chain\n",
    "qa = RetrievalQA.from_chain_type(llm=OpenAI(), chain_type=\"stuff\", retriever=db.as_retriever())"
   ]
  },
  {
   "cell_type": "code",
   "execution_count": 9,
   "id": "404eb872-a6fc-4775-98ec-c343dd230e9b",
   "metadata": {},
   "outputs": [
    {
     "data": {
      "text/plain": [
       "\" The code sample for get /v2/Articles/{articleId}/{langCode} is:\\n\\ncurl --request GET \\\\\\n  --url 'https://apihub.document360.io/v2/Articles/%7BarticleId%7D/en?isForDisplay=False&isPublished=False&appendSASToken=True' \\\\\\n  --header 'accept: application/json' \\\\\\n  --header 'api_token: REPLACE_KEY_VALUE'\""
      ]
     },
     "execution_count": 9,
     "metadata": {},
     "output_type": "execute_result"
    }
   ],
   "source": [
    "# running the query to fetch the response\n",
    "qa.run(query)\n"
   ]
  },
  {
   "cell_type": "code",
   "execution_count": null,
   "id": "5989184b-1a4d-4f11-a448-9993645a909f",
   "metadata": {},
   "outputs": [],
   "source": []
  }
 ],
 "metadata": {
  "kernelspec": {
   "display_name": "Python 3 (ipykernel)",
   "language": "python",
   "name": "python3"
  },
  "language_info": {
   "codemirror_mode": {
    "name": "ipython",
    "version": 3
   },
   "file_extension": ".py",
   "mimetype": "text/x-python",
   "name": "python",
   "nbconvert_exporter": "python",
   "pygments_lexer": "ipython3",
   "version": "3.10.0"
  }
 },
 "nbformat": 4,
 "nbformat_minor": 5
}
